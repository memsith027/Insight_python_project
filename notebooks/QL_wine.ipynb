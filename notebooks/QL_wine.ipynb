{
 "cells": [
  {
   "cell_type": "markdown",
   "metadata": {},
   "source": [
    "# Quick Look at the wine_reviews_150k.csv \n",
    "\n",
    "importing, and graphing some basic aspects of the wine reviews to see if: \n",
    "- there is enough data per wine taster (at least 50 reviews of a variety of wine) "
   ]
  },
  {
   "cell_type": "code",
   "execution_count": 3,
   "metadata": {},
   "outputs": [],
   "source": [
    "# graph imformation\n",
    "%matplotlib notebook\n",
    "import matplotlib.pyplot as plt #matlab plots\n",
    "import seaborn as sns \n",
    "sns.set_style('whitegrid') # style preference on graphs\n",
    "\n",
    "#useful packages for math, statistics and dictionaries \n",
    "from scipy import stats \n",
    "import numpy as np  \n",
    "import collections #ordered dictionary\n",
    "\n",
    "#importing,cleaning and managing datasets \n",
    "import pandas as pd \n",
    "from pandas import Series,DataFrame\n",
    "\n",
    "#machine learning packages\n",
    "from sklearn import ensemble, tree, model_selection \n",
    "# ensemble = random forest\n",
    "# tree = decision tree \n",
    "\n",
    "# for generating random seeds in the game \n",
    "from random import seed, random\n",
    "# seed random number generator\n",
    "seed(1)\n",
    "\n",
    "from ansimarkup import parse, ansiprint # colour print statements\n",
    "import time # adds delays for gamer to read script"
   ]
  },
  {
   "cell_type": "code",
   "execution_count": null,
   "metadata": {},
   "outputs": [],
   "source": []
  },
  {
   "cell_type": "code",
   "execution_count": null,
   "metadata": {},
   "outputs": [],
   "source": []
  }
 ],
 "metadata": {
  "kernelspec": {
   "display_name": "Python 3",
   "language": "python",
   "name": "python3"
  },
  "language_info": {
   "codemirror_mode": {
    "name": "ipython",
    "version": 3
   },
   "file_extension": ".py",
   "mimetype": "text/x-python",
   "name": "python",
   "nbconvert_exporter": "python",
   "pygments_lexer": "ipython3",
   "version": "3.7.7"
  }
 },
 "nbformat": 4,
 "nbformat_minor": 4
}
