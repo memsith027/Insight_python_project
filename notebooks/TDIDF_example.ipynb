{
 "cells": [
  {
   "cell_type": "code",
   "execution_count": 2,
   "metadata": {},
   "outputs": [
    {
     "name": "stdout",
     "output_type": "stream",
     "text": [
      "['and', 'document', 'first', 'is', 'one', 'second', 'the', 'third', 'this']\n",
      "(3, 9)\n"
     ]
    }
   ],
   "source": [
    "from sklearn.feature_extraction.text import TfidfVectorizer\n",
    "corpus = [\n",
    "    'This is the first document.',\n",
    "    'This document is the second document.',\n",
    "    'And this is the third one.',\n",
    "]\n",
    "vectorizer = TfidfVectorizer()\n",
    "X = vectorizer.fit_transform(corpus)\n",
    "print(vectorizer.get_feature_names())\n",
    "['and', 'document', 'first', 'is', 'one', 'second', 'the', 'third', 'this']\n",
    "print(X.shape)\n"
   ]
  },
  {
   "cell_type": "code",
   "execution_count": 3,
   "metadata": {},
   "outputs": [
    {
     "name": "stdout",
     "output_type": "stream",
     "text": [
      "  (0, 1)\t0.4694172843223779\n",
      "  (0, 2)\t0.6172273175654565\n",
      "  (0, 6)\t0.3645443967613799\n",
      "  (0, 3)\t0.3645443967613799\n",
      "  (0, 8)\t0.3645443967613799\n",
      "  (1, 5)\t0.47890874975914965\n",
      "  (1, 1)\t0.7284448965638161\n",
      "  (1, 6)\t0.2828512224204681\n",
      "  (1, 3)\t0.2828512224204681\n",
      "  (1, 8)\t0.2828512224204681\n",
      "  (2, 4)\t0.49711994139048143\n",
      "  (2, 7)\t0.49711994139048143\n",
      "  (2, 0)\t0.49711994139048143\n",
      "  (2, 6)\t0.2936070455647438\n",
      "  (2, 3)\t0.2936070455647438\n",
      "  (2, 8)\t0.2936070455647438\n"
     ]
    }
   ],
   "source": [
    "print(X)"
   ]
  },
  {
   "cell_type": "code",
   "execution_count": 4,
   "metadata": {},
   "outputs": [
    {
     "data": {
      "text/plain": [
       "TfidfVectorizer(analyzer='word', binary=False, decode_error='strict',\n",
       "                dtype=<class 'numpy.float64'>, encoding='utf-8',\n",
       "                input='content', lowercase=True, max_df=1.0, max_features=None,\n",
       "                min_df=1, ngram_range=(1, 1), norm='l2', preprocessor=None,\n",
       "                smooth_idf=True, stop_words=None, strip_accents=None,\n",
       "                sublinear_tf=False, token_pattern='(?u)\\\\b\\\\w\\\\w+\\\\b',\n",
       "                tokenizer=None, use_idf=True, vocabulary=None)"
      ]
     },
     "execution_count": 4,
     "metadata": {},
     "output_type": "execute_result"
    }
   ],
   "source": [
    "vectorizer"
   ]
  },
  {
   "cell_type": "code",
   "execution_count": 5,
   "metadata": {},
   "outputs": [
    {
     "data": {
      "text/plain": [
       "{'this': 8,\n",
       " 'is': 3,\n",
       " 'the': 6,\n",
       " 'first': 2,\n",
       " 'document': 1,\n",
       " 'second': 5,\n",
       " 'and': 0,\n",
       " 'third': 7,\n",
       " 'one': 4}"
      ]
     },
     "execution_count": 5,
     "metadata": {},
     "output_type": "execute_result"
    }
   ],
   "source": [
    "vectorizer.vocabulary_"
   ]
  },
  {
   "cell_type": "code",
   "execution_count": 7,
   "metadata": {},
   "outputs": [
    {
     "data": {
      "text/plain": [
       "['and', 'document', 'first', 'is', 'one', 'second', 'the', 'third', 'this']"
      ]
     },
     "execution_count": 7,
     "metadata": {},
     "output_type": "execute_result"
    }
   ],
   "source": [
    "vectorizer.get_feature_names()"
   ]
  },
  {
   "cell_type": "code",
   "execution_count": 8,
   "metadata": {},
   "outputs": [
    {
     "data": {
      "text/plain": [
       "scipy.sparse.csr.csr_matrix"
      ]
     },
     "execution_count": 8,
     "metadata": {},
     "output_type": "execute_result"
    }
   ],
   "source": [
    "import pandas as pd \n",
    "\n",
    "type(X)"
   ]
  },
  {
   "cell_type": "code",
   "execution_count": 10,
   "metadata": {},
   "outputs": [
    {
     "data": {
      "text/plain": [
       "matrix([[0.        , 0.46941728, 0.61722732, 0.3645444 , 0.        ,\n",
       "         0.        , 0.3645444 , 0.        , 0.3645444 ],\n",
       "        [0.        , 0.7284449 , 0.        , 0.28285122, 0.        ,\n",
       "         0.47890875, 0.28285122, 0.        , 0.28285122],\n",
       "        [0.49711994, 0.        , 0.        , 0.29360705, 0.49711994,\n",
       "         0.        , 0.29360705, 0.49711994, 0.29360705]])"
      ]
     },
     "execution_count": 10,
     "metadata": {},
     "output_type": "execute_result"
    }
   ],
   "source": [
    "X.todense()"
   ]
  },
  {
   "cell_type": "code",
   "execution_count": 11,
   "metadata": {},
   "outputs": [
    {
     "data": {
      "text/plain": [
       "array([[0.        , 0.46941728, 0.61722732, 0.3645444 , 0.        ,\n",
       "        0.        , 0.3645444 , 0.        , 0.3645444 ],\n",
       "       [0.        , 0.7284449 , 0.        , 0.28285122, 0.        ,\n",
       "        0.47890875, 0.28285122, 0.        , 0.28285122],\n",
       "       [0.49711994, 0.        , 0.        , 0.29360705, 0.49711994,\n",
       "        0.        , 0.29360705, 0.49711994, 0.29360705]])"
      ]
     },
     "execution_count": 11,
     "metadata": {},
     "output_type": "execute_result"
    }
   ],
   "source": [
    "X.toarray()"
   ]
  },
  {
   "cell_type": "code",
   "execution_count": 14,
   "metadata": {},
   "outputs": [],
   "source": [
    "test_df = pd.DataFrame(X.toarray(), columns=vectorizer.get_feature_names())"
   ]
  },
  {
   "cell_type": "code",
   "execution_count": 15,
   "metadata": {},
   "outputs": [
    {
     "data": {
      "text/html": [
       "<div>\n",
       "<style scoped>\n",
       "    .dataframe tbody tr th:only-of-type {\n",
       "        vertical-align: middle;\n",
       "    }\n",
       "\n",
       "    .dataframe tbody tr th {\n",
       "        vertical-align: top;\n",
       "    }\n",
       "\n",
       "    .dataframe thead th {\n",
       "        text-align: right;\n",
       "    }\n",
       "</style>\n",
       "<table border=\"1\" class=\"dataframe\">\n",
       "  <thead>\n",
       "    <tr style=\"text-align: right;\">\n",
       "      <th></th>\n",
       "      <th>and</th>\n",
       "      <th>document</th>\n",
       "      <th>first</th>\n",
       "      <th>is</th>\n",
       "      <th>one</th>\n",
       "      <th>second</th>\n",
       "      <th>the</th>\n",
       "      <th>third</th>\n",
       "      <th>this</th>\n",
       "    </tr>\n",
       "  </thead>\n",
       "  <tbody>\n",
       "    <tr>\n",
       "      <th>0</th>\n",
       "      <td>0.00000</td>\n",
       "      <td>0.469417</td>\n",
       "      <td>0.617227</td>\n",
       "      <td>0.364544</td>\n",
       "      <td>0.00000</td>\n",
       "      <td>0.000000</td>\n",
       "      <td>0.364544</td>\n",
       "      <td>0.00000</td>\n",
       "      <td>0.364544</td>\n",
       "    </tr>\n",
       "    <tr>\n",
       "      <th>1</th>\n",
       "      <td>0.00000</td>\n",
       "      <td>0.728445</td>\n",
       "      <td>0.000000</td>\n",
       "      <td>0.282851</td>\n",
       "      <td>0.00000</td>\n",
       "      <td>0.478909</td>\n",
       "      <td>0.282851</td>\n",
       "      <td>0.00000</td>\n",
       "      <td>0.282851</td>\n",
       "    </tr>\n",
       "    <tr>\n",
       "      <th>2</th>\n",
       "      <td>0.49712</td>\n",
       "      <td>0.000000</td>\n",
       "      <td>0.000000</td>\n",
       "      <td>0.293607</td>\n",
       "      <td>0.49712</td>\n",
       "      <td>0.000000</td>\n",
       "      <td>0.293607</td>\n",
       "      <td>0.49712</td>\n",
       "      <td>0.293607</td>\n",
       "    </tr>\n",
       "  </tbody>\n",
       "</table>\n",
       "</div>"
      ],
      "text/plain": [
       "       and  document     first        is      one    second       the  \\\n",
       "0  0.00000  0.469417  0.617227  0.364544  0.00000  0.000000  0.364544   \n",
       "1  0.00000  0.728445  0.000000  0.282851  0.00000  0.478909  0.282851   \n",
       "2  0.49712  0.000000  0.000000  0.293607  0.49712  0.000000  0.293607   \n",
       "\n",
       "     third      this  \n",
       "0  0.00000  0.364544  \n",
       "1  0.00000  0.282851  \n",
       "2  0.49712  0.293607  "
      ]
     },
     "execution_count": 15,
     "metadata": {},
     "output_type": "execute_result"
    }
   ],
   "source": [
    "test_df"
   ]
  },
  {
   "cell_type": "code",
   "execution_count": 17,
   "metadata": {},
   "outputs": [
    {
     "data": {
      "text/html": [
       "<div>\n",
       "<style scoped>\n",
       "    .dataframe tbody tr th:only-of-type {\n",
       "        vertical-align: middle;\n",
       "    }\n",
       "\n",
       "    .dataframe tbody tr th {\n",
       "        vertical-align: top;\n",
       "    }\n",
       "\n",
       "    .dataframe thead th {\n",
       "        text-align: right;\n",
       "    }\n",
       "</style>\n",
       "<table border=\"1\" class=\"dataframe\">\n",
       "  <thead>\n",
       "    <tr style=\"text-align: right;\">\n",
       "      <th></th>\n",
       "      <th>is</th>\n",
       "      <th>one</th>\n",
       "      <th>second</th>\n",
       "      <th>the</th>\n",
       "      <th>third</th>\n",
       "      <th>this</th>\n",
       "    </tr>\n",
       "  </thead>\n",
       "  <tbody>\n",
       "    <tr>\n",
       "      <th>0</th>\n",
       "      <td>0.364544</td>\n",
       "      <td>0.00000</td>\n",
       "      <td>0.000000</td>\n",
       "      <td>0.364544</td>\n",
       "      <td>0.00000</td>\n",
       "      <td>0.364544</td>\n",
       "    </tr>\n",
       "    <tr>\n",
       "      <th>1</th>\n",
       "      <td>0.282851</td>\n",
       "      <td>0.00000</td>\n",
       "      <td>0.478909</td>\n",
       "      <td>0.282851</td>\n",
       "      <td>0.00000</td>\n",
       "      <td>0.282851</td>\n",
       "    </tr>\n",
       "    <tr>\n",
       "      <th>2</th>\n",
       "      <td>0.293607</td>\n",
       "      <td>0.49712</td>\n",
       "      <td>0.000000</td>\n",
       "      <td>0.293607</td>\n",
       "      <td>0.49712</td>\n",
       "      <td>0.293607</td>\n",
       "    </tr>\n",
       "  </tbody>\n",
       "</table>\n",
       "</div>"
      ],
      "text/plain": [
       "         is      one    second       the    third      this\n",
       "0  0.364544  0.00000  0.000000  0.364544  0.00000  0.364544\n",
       "1  0.282851  0.00000  0.478909  0.282851  0.00000  0.282851\n",
       "2  0.293607  0.49712  0.000000  0.293607  0.49712  0.293607"
      ]
     },
     "execution_count": 17,
     "metadata": {},
     "output_type": "execute_result"
    }
   ],
   "source": [
    "test_df.iloc[:,3:len(test_df.columns)]"
   ]
  },
  {
   "cell_type": "code",
   "execution_count": 18,
   "metadata": {},
   "outputs": [
    {
     "data": {
      "text/html": [
       "<div>\n",
       "<style scoped>\n",
       "    .dataframe tbody tr th:only-of-type {\n",
       "        vertical-align: middle;\n",
       "    }\n",
       "\n",
       "    .dataframe tbody tr th {\n",
       "        vertical-align: top;\n",
       "    }\n",
       "\n",
       "    .dataframe thead th {\n",
       "        text-align: right;\n",
       "    }\n",
       "</style>\n",
       "<table border=\"1\" class=\"dataframe\">\n",
       "  <thead>\n",
       "    <tr style=\"text-align: right;\">\n",
       "      <th></th>\n",
       "      <th>is</th>\n",
       "      <th>one</th>\n",
       "      <th>second</th>\n",
       "      <th>the</th>\n",
       "      <th>third</th>\n",
       "      <th>this</th>\n",
       "    </tr>\n",
       "  </thead>\n",
       "  <tbody>\n",
       "    <tr>\n",
       "      <th>0</th>\n",
       "      <td>0.364544</td>\n",
       "      <td>0.00000</td>\n",
       "      <td>0.000000</td>\n",
       "      <td>0.364544</td>\n",
       "      <td>0.00000</td>\n",
       "      <td>0.364544</td>\n",
       "    </tr>\n",
       "    <tr>\n",
       "      <th>1</th>\n",
       "      <td>0.282851</td>\n",
       "      <td>0.00000</td>\n",
       "      <td>0.478909</td>\n",
       "      <td>0.282851</td>\n",
       "      <td>0.00000</td>\n",
       "      <td>0.282851</td>\n",
       "    </tr>\n",
       "    <tr>\n",
       "      <th>2</th>\n",
       "      <td>0.293607</td>\n",
       "      <td>0.49712</td>\n",
       "      <td>0.000000</td>\n",
       "      <td>0.293607</td>\n",
       "      <td>0.49712</td>\n",
       "      <td>0.293607</td>\n",
       "    </tr>\n",
       "  </tbody>\n",
       "</table>\n",
       "</div>"
      ],
      "text/plain": [
       "         is      one    second       the    third      this\n",
       "0  0.364544  0.00000  0.000000  0.364544  0.00000  0.364544\n",
       "1  0.282851  0.00000  0.478909  0.282851  0.00000  0.282851\n",
       "2  0.293607  0.49712  0.000000  0.293607  0.49712  0.293607"
      ]
     },
     "execution_count": 18,
     "metadata": {},
     "output_type": "execute_result"
    }
   ],
   "source": [
    "test_df.iloc[:,3:]"
   ]
  },
  {
   "cell_type": "code",
   "execution_count": 19,
   "metadata": {},
   "outputs": [],
   "source": [
    "dic = {'Kerin O’Keefe': 88, 'Roger Voss': 88, 'Paul Gregutt': 90, 'Alexander Peartree': 87, 'Michael Schachner': 88, 'Anna Lee C. Iijima': 87, 'Virginie Boone': 90, 'Matt Kettmann': 91, 'Jim Gordon': 89, 'Joe Czerwinski': 88, 'Anne Krebiehl\\xa0MW': 90, 'Lauren Buzzeo': 86, 'Mike DeSimone': 88, 'Jeff Jenssen': 87, 'Susan Kostrzewa': 87, 'Carrie Dykes': 86}\n"
   ]
  },
  {
   "cell_type": "code",
   "execution_count": 20,
   "metadata": {},
   "outputs": [
    {
     "name": "stdout",
     "output_type": "stream",
     "text": [
      "91\n"
     ]
    }
   ],
   "source": [
    "print(max(dic.values()))"
   ]
  },
  {
   "cell_type": "code",
   "execution_count": 30,
   "metadata": {},
   "outputs": [],
   "source": [
    "from collections import OrderedDict\n",
    "\n",
    "dic = {'Kerin O’Keefe': 88, 'Roger Voss': 88, 'Paul Gregutt': 90, 'Alexander Peartree': 87, 'Michael Schachner': 88, 'Anna Lee C. Iijima': 87, 'Virginie Boone': 90, 'Matt Kettmann': 91, 'Jim Gordon': 89, 'Joe Czerwinski': 88, 'Anne Krebiehl\\xa0MW': 90, 'Lauren Buzzeo': 86, 'Mike DeSimone': 88, 'Jeff Jenssen': 87, 'Susan Kostrzewa': 87, 'Carrie Dykes': 86}"
   ]
  },
  {
   "cell_type": "code",
   "execution_count": 22,
   "metadata": {},
   "outputs": [
    {
     "data": {
      "text/plain": [
       "OrderedDict([('Kerin O’Keefe', 88),\n",
       "             ('Roger Voss', 88),\n",
       "             ('Paul Gregutt', 90),\n",
       "             ('Alexander Peartree', 87),\n",
       "             ('Michael Schachner', 88),\n",
       "             ('Anna Lee C. Iijima', 87),\n",
       "             ('Virginie Boone', 90),\n",
       "             ('Matt Kettmann', 91),\n",
       "             ('Jim Gordon', 89),\n",
       "             ('Joe Czerwinski', 88),\n",
       "             ('Anne Krebiehl\\xa0MW', 90),\n",
       "             ('Lauren Buzzeo', 86),\n",
       "             ('Mike DeSimone', 88),\n",
       "             ('Jeff Jenssen', 87),\n",
       "             ('Susan Kostrzewa', 87),\n",
       "             ('Carrie Dykes', 86)])"
      ]
     },
     "execution_count": 22,
     "metadata": {},
     "output_type": "execute_result"
    }
   ],
   "source": [
    "dic\n"
   ]
  },
  {
   "cell_type": "code",
   "execution_count": 27,
   "metadata": {},
   "outputs": [
    {
     "ename": "AttributeError",
     "evalue": "'list' object has no attribute 'items'",
     "output_type": "error",
     "traceback": [
      "\u001b[0;31m---------------------------------------------------------------------------\u001b[0m",
      "\u001b[0;31mAttributeError\u001b[0m                            Traceback (most recent call last)",
      "\u001b[0;32m<ipython-input-27-7af411c44ebe>\u001b[0m in \u001b[0;36m<module>\u001b[0;34m\u001b[0m\n\u001b[0;32m----> 1\u001b[0;31m \u001b[0mdic\u001b[0m \u001b[0;34m=\u001b[0m \u001b[0mOrderedDict\u001b[0m\u001b[0;34m(\u001b[0m\u001b[0msorted\u001b[0m\u001b[0;34m(\u001b[0m\u001b[0mdic\u001b[0m\u001b[0;34m.\u001b[0m\u001b[0mitems\u001b[0m\u001b[0;34m(\u001b[0m\u001b[0;34m)\u001b[0m\u001b[0;34m)\u001b[0m\u001b[0;34m)\u001b[0m\u001b[0;34m\u001b[0m\u001b[0;34m\u001b[0m\u001b[0m\n\u001b[0m",
      "\u001b[0;31mAttributeError\u001b[0m: 'list' object has no attribute 'items'"
     ]
    }
   ],
   "source": [
    "dic = OrderedDict(sorted(dic.items()))\n"
   ]
  },
  {
   "cell_type": "code",
   "execution_count": 24,
   "metadata": {},
   "outputs": [
    {
     "data": {
      "text/plain": [
       "[86, 86, 87, 87, 87, 87, 88, 88, 88, 88, 88, 89, 90, 90, 90, 91]"
      ]
     },
     "execution_count": 24,
     "metadata": {},
     "output_type": "execute_result"
    }
   ],
   "source": [
    "dic"
   ]
  },
  {
   "cell_type": "code",
   "execution_count": 33,
   "metadata": {},
   "outputs": [
    {
     "name": "stdout",
     "output_type": "stream",
     "text": [
      "OrderedDict([('Kerin O’Keefe', 88), ('Roger Voss', 88), ('Paul Gregutt', 90), ('Alexander Peartree', 87), ('Michael Schachner', 88), ('Anna Lee C. Iijima', 87), ('Virginie Boone', 90), ('Matt Kettmann', 91), ('Jim Gordon', 89), ('Joe Czerwinski', 88), ('Anne Krebiehl\\xa0MW', 90), ('Lauren Buzzeo', 86), ('Mike DeSimone', 88), ('Jeff Jenssen', 87), ('Susan Kostrzewa', 87), ('Carrie Dykes', 86)])\n",
      "OrderedDict([('Alexander Peartree', 87), ('Anna Lee C. Iijima', 87), ('Anne Krebiehl\\xa0MW', 90), ('Carrie Dykes', 86), ('Jeff Jenssen', 87), ('Jim Gordon', 89), ('Joe Czerwinski', 88), ('Kerin O’Keefe', 88), ('Lauren Buzzeo', 86), ('Matt Kettmann', 91), ('Michael Schachner', 88), ('Mike DeSimone', 88), ('Paul Gregutt', 90), ('Roger Voss', 88), ('Susan Kostrzewa', 87), ('Virginie Boone', 90)])\n",
      "('Virginie Boone', 90)\n",
      "('Carrie Dykes', 86)\n"
     ]
    }
   ],
   "source": [
    "d = {'banana': 3, 'apple':4, 'pear': 1, 'mango': 2}\n",
    "od=OrderedDict(dic.items())\n",
    "print(od)\n",
    "\n",
    "od=OrderedDict(sorted(dic.items()))\n",
    "print(od)\n",
    "\n",
    "t=od.popitem()\n",
    "print(t)\n",
    "\n",
    "od=OrderedDict(dic.items())\n",
    "t=od.popitem()\n",
    "print(t)\n"
   ]
  },
  {
   "cell_type": "code",
   "execution_count": 45,
   "metadata": {},
   "outputs": [
    {
     "ename": "AttributeError",
     "evalue": "'collections.OrderedDict' object has no attribute 'sort'",
     "output_type": "error",
     "traceback": [
      "\u001b[0;31m---------------------------------------------------------------------------\u001b[0m",
      "\u001b[0;31mAttributeError\u001b[0m                            Traceback (most recent call last)",
      "\u001b[0;32m<ipython-input-45-e09d4d9c796b>\u001b[0m in \u001b[0;36m<module>\u001b[0;34m\u001b[0m\n\u001b[1;32m      1\u001b[0m \u001b[0;32mimport\u001b[0m \u001b[0moperator\u001b[0m\u001b[0;34m\u001b[0m\u001b[0;34m\u001b[0m\u001b[0m\n\u001b[1;32m      2\u001b[0m \u001b[0md\u001b[0m \u001b[0;34m=\u001b[0m \u001b[0mOrderedDict\u001b[0m\u001b[0;34m(\u001b[0m\u001b[0;34m{\u001b[0m\u001b[0;34m'Kerin O’Keefe'\u001b[0m\u001b[0;34m:\u001b[0m \u001b[0;36m88\u001b[0m\u001b[0;34m,\u001b[0m \u001b[0;34m'Roger Voss'\u001b[0m\u001b[0;34m:\u001b[0m \u001b[0;36m88\u001b[0m\u001b[0;34m,\u001b[0m \u001b[0;34m'Paul Gregutt'\u001b[0m\u001b[0;34m:\u001b[0m \u001b[0;36m90\u001b[0m\u001b[0;34m,\u001b[0m \u001b[0;34m'Alexander Peartree'\u001b[0m\u001b[0;34m:\u001b[0m \u001b[0;36m87\u001b[0m\u001b[0;34m,\u001b[0m \u001b[0;34m'Michael Schachner'\u001b[0m\u001b[0;34m:\u001b[0m \u001b[0;36m88\u001b[0m\u001b[0;34m,\u001b[0m \u001b[0;34m'Anna Lee C. Iijima'\u001b[0m\u001b[0;34m:\u001b[0m \u001b[0;36m87\u001b[0m\u001b[0;34m,\u001b[0m \u001b[0;34m'Virginie Boone'\u001b[0m\u001b[0;34m:\u001b[0m \u001b[0;36m90\u001b[0m\u001b[0;34m,\u001b[0m \u001b[0;34m'Matt Kettmann'\u001b[0m\u001b[0;34m:\u001b[0m \u001b[0;36m91\u001b[0m\u001b[0;34m,\u001b[0m \u001b[0;34m'Jim Gordon'\u001b[0m\u001b[0;34m:\u001b[0m \u001b[0;36m89\u001b[0m\u001b[0;34m,\u001b[0m \u001b[0;34m'Joe Czerwinski'\u001b[0m\u001b[0;34m:\u001b[0m \u001b[0;36m88\u001b[0m\u001b[0;34m,\u001b[0m \u001b[0;34m'Anne Krebiehl\\xa0MW'\u001b[0m\u001b[0;34m:\u001b[0m \u001b[0;36m90\u001b[0m\u001b[0;34m,\u001b[0m \u001b[0;34m'Lauren Buzzeo'\u001b[0m\u001b[0;34m:\u001b[0m \u001b[0;36m86\u001b[0m\u001b[0;34m,\u001b[0m \u001b[0;34m'Mike DeSimone'\u001b[0m\u001b[0;34m:\u001b[0m \u001b[0;36m88\u001b[0m\u001b[0;34m,\u001b[0m \u001b[0;34m'Jeff Jenssen'\u001b[0m\u001b[0;34m:\u001b[0m \u001b[0;36m87\u001b[0m\u001b[0;34m,\u001b[0m \u001b[0;34m'Susan Kostrzewa'\u001b[0m\u001b[0;34m:\u001b[0m \u001b[0;36m87\u001b[0m\u001b[0;34m,\u001b[0m \u001b[0;34m'Carrie Dykes'\u001b[0m\u001b[0;34m:\u001b[0m \u001b[0;36m86\u001b[0m\u001b[0;34m}\u001b[0m\u001b[0;34m)\u001b[0m\u001b[0;34m\u001b[0m\u001b[0;34m\u001b[0m\u001b[0m\n\u001b[0;32m----> 3\u001b[0;31m \u001b[0mprint\u001b[0m\u001b[0;34m(\u001b[0m\u001b[0md\u001b[0m\u001b[0;34m.\u001b[0m\u001b[0msort\u001b[0m\u001b[0;34m(\u001b[0m\u001b[0mkey\u001b[0m\u001b[0;34m=\u001b[0m\u001b[0;32mlambda\u001b[0m \u001b[0mx\u001b[0m\u001b[0;34m:\u001b[0m \u001b[0mx\u001b[0m\u001b[0;34m[\u001b[0m\u001b[0;36m1\u001b[0m\u001b[0;34m]\u001b[0m\u001b[0;34m,\u001b[0m \u001b[0mreverse\u001b[0m\u001b[0;34m=\u001b[0m\u001b[0;32mTrue\u001b[0m\u001b[0;34m)\u001b[0m\u001b[0;34m)\u001b[0m\u001b[0;34m\u001b[0m\u001b[0;34m\u001b[0m\u001b[0m\n\u001b[0m",
      "\u001b[0;31mAttributeError\u001b[0m: 'collections.OrderedDict' object has no attribute 'sort'"
     ]
    }
   ],
   "source": [
    "import operator\n",
    "d = OrderedDict({'Kerin O’Keefe': 88, 'Roger Voss': 88, 'Paul Gregutt': 90, 'Alexander Peartree': 87, 'Michael Schachner': 88, 'Anna Lee C. Iijima': 87, 'Virginie Boone': 90, 'Matt Kettmann': 91, 'Jim Gordon': 89, 'Joe Czerwinski': 88, 'Anne Krebiehl\\xa0MW': 90, 'Lauren Buzzeo': 86, 'Mike DeSimone': 88, 'Jeff Jenssen': 87, 'Susan Kostrzewa': 87, 'Carrie Dykes': 86})\n",
    "print(d.sort(key=lambda x: x[1], reverse=True))"
   ]
  },
  {
   "cell_type": "code",
   "execution_count": 47,
   "metadata": {},
   "outputs": [
    {
     "name": "stdout",
     "output_type": "stream",
     "text": [
      "Original dictionary :  {'Kerin O’Keefe': 88, 'Roger Voss': 88, 'Paul Gregutt': 90, 'Alexander Peartree': 87, 'Michael Schachner': 88, 'Anna Lee C. Iijima': 87, 'Virginie Boone': 90, 'Matt Kettmann': 91, 'Jim Gordon': 89, 'Joe Czerwinski': 88, 'Anne Krebiehl\\xa0MW': 90, 'Lauren Buzzeo': 86, 'Mike DeSimone': 88, 'Jeff Jenssen': 87, 'Susan Kostrzewa': 87, 'Carrie Dykes': 86}\n",
      "Dictionary in ascending order by value :  {'Lauren Buzzeo': 86, 'Carrie Dykes': 86, 'Alexander Peartree': 87, 'Anna Lee C. Iijima': 87, 'Jeff Jenssen': 87, 'Susan Kostrzewa': 87, 'Kerin O’Keefe': 88, 'Roger Voss': 88, 'Michael Schachner': 88, 'Joe Czerwinski': 88, 'Mike DeSimone': 88, 'Jim Gordon': 89, 'Paul Gregutt': 90, 'Virginie Boone': 90, 'Anne Krebiehl\\xa0MW': 90, 'Matt Kettmann': 91}\n",
      "Dictionary in descending order by value :  {'Matt Kettmann': 91, 'Paul Gregutt': 90, 'Virginie Boone': 90, 'Anne Krebiehl\\xa0MW': 90, 'Jim Gordon': 89, 'Kerin O’Keefe': 88, 'Roger Voss': 88, 'Michael Schachner': 88, 'Joe Czerwinski': 88, 'Mike DeSimone': 88, 'Alexander Peartree': 87, 'Anna Lee C. Iijima': 87, 'Jeff Jenssen': 87, 'Susan Kostrzewa': 87, 'Lauren Buzzeo': 86, 'Carrie Dykes': 86}\n"
     ]
    }
   ],
   "source": [
    "import operator\n",
    "d = {'Kerin O’Keefe': 88, 'Roger Voss': 88, 'Paul Gregutt': 90, 'Alexander Peartree': 87, 'Michael Schachner': 88, 'Anna Lee C. Iijima': 87, 'Virginie Boone': 90, 'Matt Kettmann': 91, 'Jim Gordon': 89, 'Joe Czerwinski': 88, 'Anne Krebiehl\\xa0MW': 90, 'Lauren Buzzeo': 86, 'Mike DeSimone': 88, 'Jeff Jenssen': 87, 'Susan Kostrzewa': 87, 'Carrie Dykes': 86}\n",
    "print('Original dictionary : ',d)\n",
    "sorted_d = dict(sorted(d.items(), key=operator.itemgetter(1)))\n",
    "print('Dictionary in ascending order by value : ',sorted_d)\n",
    "sorted_d = dict(sorted(d.items(), key=operator.itemgetter(1),reverse=True))\n",
    "print('Dictionary in descending order by value : ',sorted_d)\n"
   ]
  },
  {
   "cell_type": "code",
   "execution_count": 52,
   "metadata": {},
   "outputs": [
    {
     "name": "stdout",
     "output_type": "stream",
     "text": [
      "{'Matt Kettmann': 91, 'Paul Gregutt': 90, 'Virginie Boone': 90, 'Anne Krebiehl\\xa0MW': 90, 'Jim Gordon': 89}\n"
     ]
    }
   ],
   "source": [
    "first2pairs = {k: sorted_d[k] for k in list(sorted_d)[:5]}\n",
    "print(first2pairs)"
   ]
  },
  {
   "cell_type": "code",
   "execution_count": null,
   "metadata": {},
   "outputs": [],
   "source": []
  }
 ],
 "metadata": {
  "kernelspec": {
   "display_name": "Python 3",
   "language": "python",
   "name": "python3"
  },
  "language_info": {
   "codemirror_mode": {
    "name": "ipython",
    "version": 3
   },
   "file_extension": ".py",
   "mimetype": "text/x-python",
   "name": "python",
   "nbconvert_exporter": "python",
   "pygments_lexer": "ipython3",
   "version": "3.7.7"
  }
 },
 "nbformat": 4,
 "nbformat_minor": 4
}
